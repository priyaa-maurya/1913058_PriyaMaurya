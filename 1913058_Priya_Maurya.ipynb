{
  "metadata": {
    "language_info": {
      "codemirror_mode": {
        "name": "python",
        "version": 3
      },
      "file_extension": ".py",
      "mimetype": "text/x-python",
      "name": "python",
      "nbconvert_exporter": "python",
      "pygments_lexer": "ipython3",
      "version": "3.8"
    },
    "kernelspec": {
      "name": "python",
      "display_name": "Python (Pyodide)",
      "language": "python"
    },
    "colab": {
      "provenance": []
    }
  },
  "nbformat_minor": 0,
  "nbformat": 4,
  "cells": [
    {
      "cell_type": "markdown",
      "source": [
        "DMW Assignment-1 <br>\n",
        "Name-Priya Maurya<br>\n",
        "Roll no-1913058<br>\n",
        "Class -B.tech CS 4th yr <br>\n",
        "Apriori Algorithm<br>\n"
      ],
      "metadata": {
        "id": "cRWssCQ5mMGe"
      }
    },
    {
      "cell_type": "code",
      "source": [
        "%pip install mlxtend\n",
        "import warnings\n",
        "warnings.filterwarnings(\"ignore\",category=DeprecationWarning)"
      ],
      "metadata": {
        "trusted": true,
        "id": "1OE8dlA_lSgH"
      },
      "execution_count": null,
      "outputs": []
    },
    {
      "cell_type": "code",
      "source": [
        "dataset = [['Milk', 'Onion', 'Nutmeg', 'Kidney Beans', 'Eggs', 'Yogurt','Mango'],\n",
        "           ['Dill', 'Onion', 'Nutmeg', 'Kidney Beans', 'Eggs', 'Yogurt','Mango'],\n",
        "           ['Milk', 'Apple', 'Kidney Beans', 'Eggs','Mango'],\n",
        "           ['Milk', 'Unicorn', 'Corn', 'Kidney Beans', 'Yogurt','Mango'],\n",
        "           ['Corn', 'Onion', 'Onion', 'Kidney Beans', 'Ice cream', 'Eggs','Mango']]"
      ],
      "metadata": {
        "trusted": true,
        "id": "8z1D_hvKlSgL"
      },
      "execution_count": null,
      "outputs": []
    },
    {
      "cell_type": "code",
      "source": [
        "import pandas as pd\n",
        "from mlxtend.preprocessing import TransactionEncoder\n",
        "\n",
        "te = TransactionEncoder()\n",
        "te_ary = te.fit(dataset).transform(dataset)\n",
        "df = pd.DataFrame(te_ary, columns=te.columns_)\n",
        "df"
      ],
      "metadata": {
        "trusted": true,
        "id": "T6CsLw6ClSgM",
        "outputId": "7f419473-88a1-4f33-93e5-1b7521754911"
      },
      "execution_count": null,
      "outputs": [
        {
          "execution_count": 19,
          "output_type": "execute_result",
          "data": {
            "text/plain": "   Apple   Corn   Dill   Eggs  Ice cream  Kidney Beans  Mango   Milk  Nutmeg  \\\n0  False  False  False   True      False          True   True   True    True   \n1  False  False   True   True      False          True   True  False    True   \n2   True  False  False   True      False          True   True   True   False   \n3  False   True  False  False      False          True   True   True   False   \n4  False   True  False   True       True          True   True  False   False   \n\n   Onion  Unicorn  Yogurt  \n0   True    False    True  \n1   True    False    True  \n2  False    False   False  \n3  False     True    True  \n4   True    False   False  ",
            "text/html": "<div>\n<style scoped>\n    .dataframe tbody tr th:only-of-type {\n        vertical-align: middle;\n    }\n\n    .dataframe tbody tr th {\n        vertical-align: top;\n    }\n\n    .dataframe thead th {\n        text-align: right;\n    }\n</style>\n<table border=\"1\" class=\"dataframe\">\n  <thead>\n    <tr style=\"text-align: right;\">\n      <th></th>\n      <th>Apple</th>\n      <th>Corn</th>\n      <th>Dill</th>\n      <th>Eggs</th>\n      <th>Ice cream</th>\n      <th>Kidney Beans</th>\n      <th>Mango</th>\n      <th>Milk</th>\n      <th>Nutmeg</th>\n      <th>Onion</th>\n      <th>Unicorn</th>\n      <th>Yogurt</th>\n    </tr>\n  </thead>\n  <tbody>\n    <tr>\n      <th>0</th>\n      <td>False</td>\n      <td>False</td>\n      <td>False</td>\n      <td>True</td>\n      <td>False</td>\n      <td>True</td>\n      <td>True</td>\n      <td>True</td>\n      <td>True</td>\n      <td>True</td>\n      <td>False</td>\n      <td>True</td>\n    </tr>\n    <tr>\n      <th>1</th>\n      <td>False</td>\n      <td>False</td>\n      <td>True</td>\n      <td>True</td>\n      <td>False</td>\n      <td>True</td>\n      <td>True</td>\n      <td>False</td>\n      <td>True</td>\n      <td>True</td>\n      <td>False</td>\n      <td>True</td>\n    </tr>\n    <tr>\n      <th>2</th>\n      <td>True</td>\n      <td>False</td>\n      <td>False</td>\n      <td>True</td>\n      <td>False</td>\n      <td>True</td>\n      <td>True</td>\n      <td>True</td>\n      <td>False</td>\n      <td>False</td>\n      <td>False</td>\n      <td>False</td>\n    </tr>\n    <tr>\n      <th>3</th>\n      <td>False</td>\n      <td>True</td>\n      <td>False</td>\n      <td>False</td>\n      <td>False</td>\n      <td>True</td>\n      <td>True</td>\n      <td>True</td>\n      <td>False</td>\n      <td>False</td>\n      <td>True</td>\n      <td>True</td>\n    </tr>\n    <tr>\n      <th>4</th>\n      <td>False</td>\n      <td>True</td>\n      <td>False</td>\n      <td>True</td>\n      <td>True</td>\n      <td>True</td>\n      <td>True</td>\n      <td>False</td>\n      <td>False</td>\n      <td>True</td>\n      <td>False</td>\n      <td>False</td>\n    </tr>\n  </tbody>\n</table>\n</div>"
          },
          "metadata": {}
        }
      ]
    },
    {
      "cell_type": "code",
      "source": [
        "from mlxtend.frequent_patterns import apriori\n",
        "\n",
        "apriori(df, min_support=0.6)"
      ],
      "metadata": {
        "trusted": true,
        "id": "4-zD1O0xlSgO",
        "outputId": "7d99c2ca-0dca-4600-d3c1-7cd5b47d0bad"
      },
      "execution_count": null,
      "outputs": [
        {
          "execution_count": 20,
          "output_type": "execute_result",
          "data": {
            "text/plain": "    support      itemsets\n0       0.8           (3)\n1       1.0           (5)\n2       1.0           (6)\n3       0.6           (7)\n4       0.6           (9)\n5       0.6          (11)\n6       0.8        (3, 5)\n7       0.8        (3, 6)\n8       0.6        (9, 3)\n9       1.0        (5, 6)\n10      0.6        (5, 7)\n11      0.6        (9, 5)\n12      0.6       (11, 5)\n13      0.6        (6, 7)\n14      0.6        (9, 6)\n15      0.6       (11, 6)\n16      0.8     (3, 5, 6)\n17      0.6     (9, 3, 5)\n18      0.6     (9, 3, 6)\n19      0.6     (5, 6, 7)\n20      0.6     (9, 5, 6)\n21      0.6    (11, 5, 6)\n22      0.6  (9, 3, 5, 6)",
            "text/html": "<div>\n<style scoped>\n    .dataframe tbody tr th:only-of-type {\n        vertical-align: middle;\n    }\n\n    .dataframe tbody tr th {\n        vertical-align: top;\n    }\n\n    .dataframe thead th {\n        text-align: right;\n    }\n</style>\n<table border=\"1\" class=\"dataframe\">\n  <thead>\n    <tr style=\"text-align: right;\">\n      <th></th>\n      <th>support</th>\n      <th>itemsets</th>\n    </tr>\n  </thead>\n  <tbody>\n    <tr>\n      <th>0</th>\n      <td>0.8</td>\n      <td>(3)</td>\n    </tr>\n    <tr>\n      <th>1</th>\n      <td>1.0</td>\n      <td>(5)</td>\n    </tr>\n    <tr>\n      <th>2</th>\n      <td>1.0</td>\n      <td>(6)</td>\n    </tr>\n    <tr>\n      <th>3</th>\n      <td>0.6</td>\n      <td>(7)</td>\n    </tr>\n    <tr>\n      <th>4</th>\n      <td>0.6</td>\n      <td>(9)</td>\n    </tr>\n    <tr>\n      <th>5</th>\n      <td>0.6</td>\n      <td>(11)</td>\n    </tr>\n    <tr>\n      <th>6</th>\n      <td>0.8</td>\n      <td>(3, 5)</td>\n    </tr>\n    <tr>\n      <th>7</th>\n      <td>0.8</td>\n      <td>(3, 6)</td>\n    </tr>\n    <tr>\n      <th>8</th>\n      <td>0.6</td>\n      <td>(9, 3)</td>\n    </tr>\n    <tr>\n      <th>9</th>\n      <td>1.0</td>\n      <td>(5, 6)</td>\n    </tr>\n    <tr>\n      <th>10</th>\n      <td>0.6</td>\n      <td>(5, 7)</td>\n    </tr>\n    <tr>\n      <th>11</th>\n      <td>0.6</td>\n      <td>(9, 5)</td>\n    </tr>\n    <tr>\n      <th>12</th>\n      <td>0.6</td>\n      <td>(11, 5)</td>\n    </tr>\n    <tr>\n      <th>13</th>\n      <td>0.6</td>\n      <td>(6, 7)</td>\n    </tr>\n    <tr>\n      <th>14</th>\n      <td>0.6</td>\n      <td>(9, 6)</td>\n    </tr>\n    <tr>\n      <th>15</th>\n      <td>0.6</td>\n      <td>(11, 6)</td>\n    </tr>\n    <tr>\n      <th>16</th>\n      <td>0.8</td>\n      <td>(3, 5, 6)</td>\n    </tr>\n    <tr>\n      <th>17</th>\n      <td>0.6</td>\n      <td>(9, 3, 5)</td>\n    </tr>\n    <tr>\n      <th>18</th>\n      <td>0.6</td>\n      <td>(9, 3, 6)</td>\n    </tr>\n    <tr>\n      <th>19</th>\n      <td>0.6</td>\n      <td>(5, 6, 7)</td>\n    </tr>\n    <tr>\n      <th>20</th>\n      <td>0.6</td>\n      <td>(9, 5, 6)</td>\n    </tr>\n    <tr>\n      <th>21</th>\n      <td>0.6</td>\n      <td>(11, 5, 6)</td>\n    </tr>\n    <tr>\n      <th>22</th>\n      <td>0.6</td>\n      <td>(9, 3, 5, 6)</td>\n    </tr>\n  </tbody>\n</table>\n</div>"
          },
          "metadata": {}
        }
      ]
    },
    {
      "cell_type": "code",
      "source": [
        "apriori(df, min_support=0.6, use_colnames=True)"
      ],
      "metadata": {
        "trusted": true,
        "id": "-RKnFe1ilSgP",
        "outputId": "bdf4e757-4fdf-4cc4-dea1-7b4ad86155eb"
      },
      "execution_count": null,
      "outputs": [
        {
          "execution_count": 21,
          "output_type": "execute_result",
          "data": {
            "text/plain": "    support                            itemsets\n0       0.8                              (Eggs)\n1       1.0                      (Kidney Beans)\n2       1.0                             (Mango)\n3       0.6                              (Milk)\n4       0.6                             (Onion)\n5       0.6                            (Yogurt)\n6       0.8                (Kidney Beans, Eggs)\n7       0.8                       (Mango, Eggs)\n8       0.6                       (Eggs, Onion)\n9       1.0               (Kidney Beans, Mango)\n10      0.6                (Kidney Beans, Milk)\n11      0.6               (Kidney Beans, Onion)\n12      0.6              (Yogurt, Kidney Beans)\n13      0.6                       (Mango, Milk)\n14      0.6                      (Mango, Onion)\n15      0.6                     (Yogurt, Mango)\n16      0.8         (Kidney Beans, Mango, Eggs)\n17      0.6         (Kidney Beans, Eggs, Onion)\n18      0.6                (Mango, Eggs, Onion)\n19      0.6         (Kidney Beans, Mango, Milk)\n20      0.6        (Kidney Beans, Mango, Onion)\n21      0.6       (Yogurt, Kidney Beans, Mango)\n22      0.6  (Kidney Beans, Mango, Eggs, Onion)",
            "text/html": "<div>\n<style scoped>\n    .dataframe tbody tr th:only-of-type {\n        vertical-align: middle;\n    }\n\n    .dataframe tbody tr th {\n        vertical-align: top;\n    }\n\n    .dataframe thead th {\n        text-align: right;\n    }\n</style>\n<table border=\"1\" class=\"dataframe\">\n  <thead>\n    <tr style=\"text-align: right;\">\n      <th></th>\n      <th>support</th>\n      <th>itemsets</th>\n    </tr>\n  </thead>\n  <tbody>\n    <tr>\n      <th>0</th>\n      <td>0.8</td>\n      <td>(Eggs)</td>\n    </tr>\n    <tr>\n      <th>1</th>\n      <td>1.0</td>\n      <td>(Kidney Beans)</td>\n    </tr>\n    <tr>\n      <th>2</th>\n      <td>1.0</td>\n      <td>(Mango)</td>\n    </tr>\n    <tr>\n      <th>3</th>\n      <td>0.6</td>\n      <td>(Milk)</td>\n    </tr>\n    <tr>\n      <th>4</th>\n      <td>0.6</td>\n      <td>(Onion)</td>\n    </tr>\n    <tr>\n      <th>5</th>\n      <td>0.6</td>\n      <td>(Yogurt)</td>\n    </tr>\n    <tr>\n      <th>6</th>\n      <td>0.8</td>\n      <td>(Kidney Beans, Eggs)</td>\n    </tr>\n    <tr>\n      <th>7</th>\n      <td>0.8</td>\n      <td>(Mango, Eggs)</td>\n    </tr>\n    <tr>\n      <th>8</th>\n      <td>0.6</td>\n      <td>(Eggs, Onion)</td>\n    </tr>\n    <tr>\n      <th>9</th>\n      <td>1.0</td>\n      <td>(Kidney Beans, Mango)</td>\n    </tr>\n    <tr>\n      <th>10</th>\n      <td>0.6</td>\n      <td>(Kidney Beans, Milk)</td>\n    </tr>\n    <tr>\n      <th>11</th>\n      <td>0.6</td>\n      <td>(Kidney Beans, Onion)</td>\n    </tr>\n    <tr>\n      <th>12</th>\n      <td>0.6</td>\n      <td>(Yogurt, Kidney Beans)</td>\n    </tr>\n    <tr>\n      <th>13</th>\n      <td>0.6</td>\n      <td>(Mango, Milk)</td>\n    </tr>\n    <tr>\n      <th>14</th>\n      <td>0.6</td>\n      <td>(Mango, Onion)</td>\n    </tr>\n    <tr>\n      <th>15</th>\n      <td>0.6</td>\n      <td>(Yogurt, Mango)</td>\n    </tr>\n    <tr>\n      <th>16</th>\n      <td>0.8</td>\n      <td>(Kidney Beans, Mango, Eggs)</td>\n    </tr>\n    <tr>\n      <th>17</th>\n      <td>0.6</td>\n      <td>(Kidney Beans, Eggs, Onion)</td>\n    </tr>\n    <tr>\n      <th>18</th>\n      <td>0.6</td>\n      <td>(Mango, Eggs, Onion)</td>\n    </tr>\n    <tr>\n      <th>19</th>\n      <td>0.6</td>\n      <td>(Kidney Beans, Mango, Milk)</td>\n    </tr>\n    <tr>\n      <th>20</th>\n      <td>0.6</td>\n      <td>(Kidney Beans, Mango, Onion)</td>\n    </tr>\n    <tr>\n      <th>21</th>\n      <td>0.6</td>\n      <td>(Yogurt, Kidney Beans, Mango)</td>\n    </tr>\n    <tr>\n      <th>22</th>\n      <td>0.6</td>\n      <td>(Kidney Beans, Mango, Eggs, Onion)</td>\n    </tr>\n  </tbody>\n</table>\n</div>"
          },
          "metadata": {}
        }
      ]
    },
    {
      "cell_type": "code",
      "source": [
        "frequent_itemsets = apriori(df, min_support=0.6, use_colnames=True)\n",
        "frequent_itemsets['length'] = frequent_itemsets['itemsets'].apply(lambda x: len(x))\n",
        "frequent_itemsets"
      ],
      "metadata": {
        "trusted": true,
        "id": "6bFEzRy3lSgQ",
        "outputId": "c497bc24-55c5-4501-e8c5-15e8e475ef15"
      },
      "execution_count": null,
      "outputs": [
        {
          "execution_count": 22,
          "output_type": "execute_result",
          "data": {
            "text/plain": "    support                            itemsets  length\n0       0.8                              (Eggs)       1\n1       1.0                      (Kidney Beans)       1\n2       1.0                             (Mango)       1\n3       0.6                              (Milk)       1\n4       0.6                             (Onion)       1\n5       0.6                            (Yogurt)       1\n6       0.8                (Kidney Beans, Eggs)       2\n7       0.8                       (Mango, Eggs)       2\n8       0.6                       (Eggs, Onion)       2\n9       1.0               (Kidney Beans, Mango)       2\n10      0.6                (Kidney Beans, Milk)       2\n11      0.6               (Kidney Beans, Onion)       2\n12      0.6              (Yogurt, Kidney Beans)       2\n13      0.6                       (Mango, Milk)       2\n14      0.6                      (Mango, Onion)       2\n15      0.6                     (Yogurt, Mango)       2\n16      0.8         (Kidney Beans, Mango, Eggs)       3\n17      0.6         (Kidney Beans, Eggs, Onion)       3\n18      0.6                (Mango, Eggs, Onion)       3\n19      0.6         (Kidney Beans, Mango, Milk)       3\n20      0.6        (Kidney Beans, Mango, Onion)       3\n21      0.6       (Yogurt, Kidney Beans, Mango)       3\n22      0.6  (Kidney Beans, Mango, Eggs, Onion)       4",
            "text/html": "<div>\n<style scoped>\n    .dataframe tbody tr th:only-of-type {\n        vertical-align: middle;\n    }\n\n    .dataframe tbody tr th {\n        vertical-align: top;\n    }\n\n    .dataframe thead th {\n        text-align: right;\n    }\n</style>\n<table border=\"1\" class=\"dataframe\">\n  <thead>\n    <tr style=\"text-align: right;\">\n      <th></th>\n      <th>support</th>\n      <th>itemsets</th>\n      <th>length</th>\n    </tr>\n  </thead>\n  <tbody>\n    <tr>\n      <th>0</th>\n      <td>0.8</td>\n      <td>(Eggs)</td>\n      <td>1</td>\n    </tr>\n    <tr>\n      <th>1</th>\n      <td>1.0</td>\n      <td>(Kidney Beans)</td>\n      <td>1</td>\n    </tr>\n    <tr>\n      <th>2</th>\n      <td>1.0</td>\n      <td>(Mango)</td>\n      <td>1</td>\n    </tr>\n    <tr>\n      <th>3</th>\n      <td>0.6</td>\n      <td>(Milk)</td>\n      <td>1</td>\n    </tr>\n    <tr>\n      <th>4</th>\n      <td>0.6</td>\n      <td>(Onion)</td>\n      <td>1</td>\n    </tr>\n    <tr>\n      <th>5</th>\n      <td>0.6</td>\n      <td>(Yogurt)</td>\n      <td>1</td>\n    </tr>\n    <tr>\n      <th>6</th>\n      <td>0.8</td>\n      <td>(Kidney Beans, Eggs)</td>\n      <td>2</td>\n    </tr>\n    <tr>\n      <th>7</th>\n      <td>0.8</td>\n      <td>(Mango, Eggs)</td>\n      <td>2</td>\n    </tr>\n    <tr>\n      <th>8</th>\n      <td>0.6</td>\n      <td>(Eggs, Onion)</td>\n      <td>2</td>\n    </tr>\n    <tr>\n      <th>9</th>\n      <td>1.0</td>\n      <td>(Kidney Beans, Mango)</td>\n      <td>2</td>\n    </tr>\n    <tr>\n      <th>10</th>\n      <td>0.6</td>\n      <td>(Kidney Beans, Milk)</td>\n      <td>2</td>\n    </tr>\n    <tr>\n      <th>11</th>\n      <td>0.6</td>\n      <td>(Kidney Beans, Onion)</td>\n      <td>2</td>\n    </tr>\n    <tr>\n      <th>12</th>\n      <td>0.6</td>\n      <td>(Yogurt, Kidney Beans)</td>\n      <td>2</td>\n    </tr>\n    <tr>\n      <th>13</th>\n      <td>0.6</td>\n      <td>(Mango, Milk)</td>\n      <td>2</td>\n    </tr>\n    <tr>\n      <th>14</th>\n      <td>0.6</td>\n      <td>(Mango, Onion)</td>\n      <td>2</td>\n    </tr>\n    <tr>\n      <th>15</th>\n      <td>0.6</td>\n      <td>(Yogurt, Mango)</td>\n      <td>2</td>\n    </tr>\n    <tr>\n      <th>16</th>\n      <td>0.8</td>\n      <td>(Kidney Beans, Mango, Eggs)</td>\n      <td>3</td>\n    </tr>\n    <tr>\n      <th>17</th>\n      <td>0.6</td>\n      <td>(Kidney Beans, Eggs, Onion)</td>\n      <td>3</td>\n    </tr>\n    <tr>\n      <th>18</th>\n      <td>0.6</td>\n      <td>(Mango, Eggs, Onion)</td>\n      <td>3</td>\n    </tr>\n    <tr>\n      <th>19</th>\n      <td>0.6</td>\n      <td>(Kidney Beans, Mango, Milk)</td>\n      <td>3</td>\n    </tr>\n    <tr>\n      <th>20</th>\n      <td>0.6</td>\n      <td>(Kidney Beans, Mango, Onion)</td>\n      <td>3</td>\n    </tr>\n    <tr>\n      <th>21</th>\n      <td>0.6</td>\n      <td>(Yogurt, Kidney Beans, Mango)</td>\n      <td>3</td>\n    </tr>\n    <tr>\n      <th>22</th>\n      <td>0.6</td>\n      <td>(Kidney Beans, Mango, Eggs, Onion)</td>\n      <td>4</td>\n    </tr>\n  </tbody>\n</table>\n</div>"
          },
          "metadata": {}
        }
      ]
    },
    {
      "cell_type": "code",
      "source": [
        "frequent_itemsets[ (frequent_itemsets['length'] == 2) &\n",
        "                   (frequent_itemsets['support'] >= 0.6) ]"
      ],
      "metadata": {
        "trusted": true,
        "id": "pX_Zix3dlSgR",
        "outputId": "09f3e85b-9af6-49b7-a0d1-93be27bd7991"
      },
      "execution_count": null,
      "outputs": [
        {
          "execution_count": 23,
          "output_type": "execute_result",
          "data": {
            "text/plain": "   support               itemsets  length\n6      0.8   (Kidney Beans, Eggs)       2\n7      0.8          (Mango, Eggs)       2\n9      1.0  (Kidney Beans, Mango)       2",
            "text/html": "<div>\n<style scoped>\n    .dataframe tbody tr th:only-of-type {\n        vertical-align: middle;\n    }\n\n    .dataframe tbody tr th {\n        vertical-align: top;\n    }\n\n    .dataframe thead th {\n        text-align: right;\n    }\n</style>\n<table border=\"1\" class=\"dataframe\">\n  <thead>\n    <tr style=\"text-align: right;\">\n      <th></th>\n      <th>support</th>\n      <th>itemsets</th>\n      <th>length</th>\n    </tr>\n  </thead>\n  <tbody>\n    <tr>\n      <th>6</th>\n      <td>0.8</td>\n      <td>(Kidney Beans, Eggs)</td>\n      <td>2</td>\n    </tr>\n    <tr>\n      <th>7</th>\n      <td>0.8</td>\n      <td>(Mango, Eggs)</td>\n      <td>2</td>\n    </tr>\n    <tr>\n      <th>9</th>\n      <td>1.0</td>\n      <td>(Kidney Beans, Mango)</td>\n      <td>2</td>\n    </tr>\n  </tbody>\n</table>\n</div>"
          },
          "metadata": {}
        }
      ]
    },
    {
      "cell_type": "code",
      "source": [
        "frequent_itemsets[ frequent_itemsets['itemsets'] == {'Onion', 'Eggs'} ]"
      ],
      "metadata": {
        "trusted": true,
        "id": "gY_ljpt2lSgS",
        "outputId": "92da9c23-ca1b-43a8-98a2-123671285aeb"
      },
      "execution_count": null,
      "outputs": [
        {
          "execution_count": 24,
          "output_type": "execute_result",
          "data": {
            "text/plain": "   support       itemsets  length\n8      0.6  (Eggs, Onion)       2",
            "text/html": "<div>\n<style scoped>\n    .dataframe tbody tr th:only-of-type {\n        vertical-align: middle;\n    }\n\n    .dataframe tbody tr th {\n        vertical-align: top;\n    }\n\n    .dataframe thead th {\n        text-align: right;\n    }\n</style>\n<table border=\"1\" class=\"dataframe\">\n  <thead>\n    <tr style=\"text-align: right;\">\n      <th></th>\n      <th>support</th>\n      <th>itemsets</th>\n      <th>length</th>\n    </tr>\n  </thead>\n  <tbody>\n    <tr>\n      <th>8</th>\n      <td>0.6</td>\n      <td>(Eggs, Onion)</td>\n      <td>2</td>\n    </tr>\n  </tbody>\n</table>\n</div>"
          },
          "metadata": {}
        }
      ]
    },
    {
      "cell_type": "code",
      "source": [
        "frequent_itemsets[ (frequent_itemsets['length'] == 3) &\n",
        "                   (frequent_itemsets['support'] >= 0.6) ]"
      ],
      "metadata": {
        "trusted": true,
        "id": "MvCmUfP1lSgS",
        "outputId": "ffe50151-0cc3-4458-c240-0cfb3cf6485b"
      },
      "execution_count": null,
      "outputs": [
        {
          "execution_count": 25,
          "output_type": "execute_result",
          "data": {
            "text/plain": "    support                       itemsets  length\n16      0.8    (Kidney Beans, Mango, Eggs)       3\n17      0.6    (Kidney Beans, Eggs, Onion)       3\n18      0.6           (Mango, Eggs, Onion)       3\n19      0.6    (Kidney Beans, Mango, Milk)       3\n20      0.6   (Kidney Beans, Mango, Onion)       3\n21      0.6  (Yogurt, Kidney Beans, Mango)       3",
            "text/html": "<div>\n<style scoped>\n    .dataframe tbody tr th:only-of-type {\n        vertical-align: middle;\n    }\n\n    .dataframe tbody tr th {\n        vertical-align: top;\n    }\n\n    .dataframe thead th {\n        text-align: right;\n    }\n</style>\n<table border=\"1\" class=\"dataframe\">\n  <thead>\n    <tr style=\"text-align: right;\">\n      <th></th>\n      <th>support</th>\n      <th>itemsets</th>\n      <th>length</th>\n    </tr>\n  </thead>\n  <tbody>\n    <tr>\n      <th>16</th>\n      <td>0.8</td>\n      <td>(Kidney Beans, Mango, Eggs)</td>\n      <td>3</td>\n    </tr>\n    <tr>\n      <th>17</th>\n      <td>0.6</td>\n      <td>(Kidney Beans, Eggs, Onion)</td>\n      <td>3</td>\n    </tr>\n    <tr>\n      <th>18</th>\n      <td>0.6</td>\n      <td>(Mango, Eggs, Onion)</td>\n      <td>3</td>\n    </tr>\n    <tr>\n      <th>19</th>\n      <td>0.6</td>\n      <td>(Kidney Beans, Mango, Milk)</td>\n      <td>3</td>\n    </tr>\n    <tr>\n      <th>20</th>\n      <td>0.6</td>\n      <td>(Kidney Beans, Mango, Onion)</td>\n      <td>3</td>\n    </tr>\n    <tr>\n      <th>21</th>\n      <td>0.6</td>\n      <td>(Yogurt, Kidney Beans, Mango)</td>\n      <td>3</td>\n    </tr>\n  </tbody>\n</table>\n</div>"
          },
          "metadata": {}
        }
      ]
    },
    {
      "cell_type": "code",
      "source": [
        "frequent_itemsets[ (frequent_itemsets['length'] == 4) &\n",
        "                   (frequent_itemsets['support'] >= 0.6) ]"
      ],
      "metadata": {
        "trusted": true,
        "id": "Frv1ZIbOlSgT",
        "outputId": "bd63daae-4b39-4a1f-b88d-75d3079dad96"
      },
      "execution_count": null,
      "outputs": [
        {
          "execution_count": 26,
          "output_type": "execute_result",
          "data": {
            "text/plain": "    support                            itemsets  length\n22      0.6  (Kidney Beans, Mango, Eggs, Onion)       4",
            "text/html": "<div>\n<style scoped>\n    .dataframe tbody tr th:only-of-type {\n        vertical-align: middle;\n    }\n\n    .dataframe tbody tr th {\n        vertical-align: top;\n    }\n\n    .dataframe thead th {\n        text-align: right;\n    }\n</style>\n<table border=\"1\" class=\"dataframe\">\n  <thead>\n    <tr style=\"text-align: right;\">\n      <th></th>\n      <th>support</th>\n      <th>itemsets</th>\n      <th>length</th>\n    </tr>\n  </thead>\n  <tbody>\n    <tr>\n      <th>22</th>\n      <td>0.6</td>\n      <td>(Kidney Beans, Mango, Eggs, Onion)</td>\n      <td>4</td>\n    </tr>\n  </tbody>\n</table>\n</div>"
          },
          "metadata": {}
        }
      ]
    },
    {
      "cell_type": "code",
      "source": [
        "frequent_itemsets[ (frequent_itemsets['length'] == 5) &\n",
        "                   (frequent_itemsets['support'] >= 0.6) ]"
      ],
      "metadata": {
        "trusted": true,
        "id": "zAoIHRuYlSgU",
        "outputId": "c9be44df-e500-4597-9e66-d58cbadc3c11"
      },
      "execution_count": null,
      "outputs": [
        {
          "execution_count": 27,
          "output_type": "execute_result",
          "data": {
            "text/plain": "Empty DataFrame\nColumns: [support, itemsets, length]\nIndex: []",
            "text/html": "<div>\n<style scoped>\n    .dataframe tbody tr th:only-of-type {\n        vertical-align: middle;\n    }\n\n    .dataframe tbody tr th {\n        vertical-align: top;\n    }\n\n    .dataframe thead th {\n        text-align: right;\n    }\n</style>\n<table border=\"1\" class=\"dataframe\">\n  <thead>\n    <tr style=\"text-align: right;\">\n      <th></th>\n      <th>support</th>\n      <th>itemsets</th>\n      <th>length</th>\n    </tr>\n  </thead>\n  <tbody>\n  </tbody>\n</table>\n</div>"
          },
          "metadata": {}
        }
      ]
    },
    {
      "cell_type": "code",
      "source": [],
      "metadata": {
        "id": "L5fs0ZyRlSgV"
      },
      "execution_count": null,
      "outputs": []
    }
  ]
}